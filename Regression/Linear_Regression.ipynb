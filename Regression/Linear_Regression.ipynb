{
  "cells": [
    {
      "cell_type": "markdown",
      "metadata": {
        "id": "OILeMYY17-tr"
      },
      "source": [
        "# Introduction\n",
        "\n",
        "Linear regression generally have the form of $Y_{i} = \\theta_{0} + \\theta_{1} x_{1} + \\theta_{2} x_{2} + ...$ <br>\n",
        "There are several ways to find the coefficients of the regression: <br>\n",
        "1. Linear Algebra: $\\hat{\\theta} = (X^{T}X)^{-1}X^{T}Y$ (When X is invertible) <br>\n",
        "2. Gradient Descent: In this case, we need to write out the loss function and try to minimize the loss. <br>\n",
        "$\\hspace{30mm}$ $F(x)$ = Loss Function = MSE = $ \\frac{1}{n}\\sum^{n}_{i=1} (Y_{i} - \\hat{Y_{i}})^{2}$ <br>\n",
        "\n",
        "In this part of the assignment, we will be using the second way to implement this linear regression model. More details about the model's implementation can be found in corresponding lectures.\n",
        "\n",
        "### <font color='red'>ATTENTION: THERE ARE A TOTAL OF 4 QUESTIONS THAT NEED YOUR ANSWERS</font>"
      ]
    },
    {
      "cell_type": "markdown",
      "metadata": {
        "id": "bwJVssC97-ts"
      },
      "source": [
        "## Import necessary packages\n",
        "\n",
        "You'll be implement your model in `LinearRegression.py` which should be put under the same directory as the location of `Linear_Regression.ipynb`. Since we have enabled `autoreload`, you only need to import these packages once. You don't need to restart the kernel of this notebook nor rerun the next cell even if you change your implementation for `LinearRegression.py` in the meantime.\n",
        "\n",
        "A suggestion for better productivity if you never used jupyter notebook + python script together: you can split your screen into left and right parts, and have your left part displaying this notebook and have your right part displaying your `LinearRegression.py`"
      ]
    },
    {
      "cell_type": "code",
      "execution_count": 7,
      "metadata": {
        "colab": {
          "base_uri": "https://localhost:8080/"
        },
        "id": "Kn5a-YLD7-tt",
        "outputId": "284a9fd4-cc85-4e9f-9950-6a014204885b"
      },
      "outputs": [
        {
          "output_type": "stream",
          "name": "stdout",
          "text": [
            "The autoreload extension is already loaded. To reload it, use:\n",
            "  %reload_ext autoreload\n"
          ]
        }
      ],
      "source": [
        "# Please do not change this code block\n",
        "%load_ext autoreload\n",
        "%autoreload 2\n",
        "\n",
        "# import numpy, pandas, pyplot for arrays, dataframes, and visualizations\n",
        "import numpy as np\n",
        "import pandas as pd\n",
        "import matplotlib.pyplot as plt\n",
        "\n",
        "# import sklearn model to validate our custom model\n",
        "from sklearn.preprocessing import MinMaxScaler\n",
        "from sklearn.linear_model import LinearRegression\n",
        "from sklearn.model_selection import train_test_split\n",
        "\n",
        "# Please make sure that your `LinearRegression.py` is under the same folder as this .ipynb notebook\n",
        "from LinearRegression import Linear_Regression"
      ]
    },
    {
      "cell_type": "markdown",
      "metadata": {
        "id": "iUjFvwXv7-tu"
      },
      "source": [
        "# Experiment 1: Perfect Data\n",
        "\n",
        "In this part, we generate a dataset with a perfect linear relationship to test our model's performance. Here, we use the equation: $y = 5x + 10$ to generate our dataset."
      ]
    },
    {
      "cell_type": "code",
      "execution_count": 36,
      "metadata": {
        "colab": {
          "base_uri": "https://localhost:8080/",
          "height": 36
        },
        "id": "eHRA9R_p7-tu",
        "outputId": "4324cc84-9486-4a2d-f759-8cbe08e629b0"
      },
      "outputs": [
        {
          "output_type": "execute_result",
          "data": {
            "text/plain": [
              "'x = [ 1  6 11 16 21], y = [ 15  40  65  90 115] for the first 5 values'"
            ],
            "application/vnd.google.colaboratory.intrinsic+json": {
              "type": "string"
            }
          },
          "metadata": {},
          "execution_count": 36
        }
      ],
      "source": [
        "X = np.array([np.arange(1, 1000, 5)]).T\n",
        "y = np.array((5 * X)).flatten() +  10\n",
        "f'x = {X[:5].flatten()}, y = {y[:5]} for the first 5 values'"
      ]
    },
    {
      "cell_type": "markdown",
      "metadata": {
        "id": "hyNU9jha7-tu"
      },
      "source": [
        "First, let's try to fit our model without any normalization (note: the below cell block could take significant amount of time to complete)"
      ]
    },
    {
      "cell_type": "code",
      "execution_count": 37,
      "metadata": {
        "colab": {
          "base_uri": "https://localhost:8080/"
        },
        "id": "SKCdsS9Y7-tv",
        "outputId": "4b1b38cf-aa4c-4f97-a913-f110ecf931f4"
      },
      "outputs": [
        {
          "output_type": "stream",
          "name": "stdout",
          "text": [
            "Start Training\n",
            "-----------------------\n",
            "Iteration: 0\n",
            "Coef: [[-0.4340051 ]\n",
            " [-0.92112182]]\n",
            "Loss: 865767848198043.2\n",
            "-----------------------\n",
            "Iteration: 1000000\n",
            "Coef: [[5.0106459 ]\n",
            " [2.92990542]]\n",
            "Loss: 2510.644980632616\n",
            "-----------------------\n",
            "Iteration: 2000000\n",
            "Coef: [[5.00689505]\n",
            " [5.41968713]]\n",
            "Loss: 1053.7086796984718\n",
            "-----------------------\n",
            "Iteration: 3000000\n",
            "Coef: [[5.00446736]\n",
            " [7.03267452]]\n",
            "Loss: 442.2435555864984\n",
            "-----------------------\n",
            "Iteration: 4000000\n",
            "Coef: [[5.00289442]\n",
            " [8.07763687]]\n",
            "Loss: 185.61057411811458\n",
            "-----------------------\n",
            "Iteration: 5000000\n",
            "Coef: [[5.00187541]\n",
            " [8.75461011]]\n",
            "Loss: 77.90117324915104\n",
            "-----------------------\n",
            "Iteration: 6000000\n",
            "Coef: [[5.00121461]\n",
            " [9.19318211]]\n",
            "Loss: 32.694892302952795\n",
            "-----------------------\n",
            "Iteration: 7000000\n",
            "Coef: [[5.00078709]\n",
            " [9.4773085 ]]\n",
            "Loss: 13.722166222822484\n",
            "-----------------------\n",
            "Iteration: 8000000\n",
            "Coef: [[5.00051002]\n",
            " [9.6613777 ]]\n",
            "Loss: 5.759237950299417\n",
            "-----------------------\n",
            "Iteration: 9000000\n",
            "Coef: [[5.00033055]\n",
            " [9.78062577]]\n",
            "Loss: 2.417189394568939\n",
            "-----------------------\n",
            "End Training\n",
            "\n",
            "Number of total iterations: 10000000 \n",
            "Best Loss: 1.0144662355661658\n",
            "CPU times: user 7min 30s, sys: 2.16 ms, total: 7min 30s\n",
            "Wall time: 7min 35s\n"
          ]
        }
      ],
      "source": [
        "%%time\n",
        "reg = Linear_Regression(num_iter = 10000000)\n",
        "reg.fit(X,y)\n",
        "print(f'\\nNumber of total iterations: {len(reg.loss)} \\nBest Loss: {min(reg.loss)}')"
      ]
    },
    {
      "cell_type": "markdown",
      "metadata": {
        "id": "yq3V30Uh7-tv"
      },
      "source": [
        "Then, let's try to fit our model with min-max normalization"
      ]
    },
    {
      "cell_type": "code",
      "execution_count": 38,
      "metadata": {
        "colab": {
          "base_uri": "https://localhost:8080/"
        },
        "id": "9ExwKSc47-tv",
        "outputId": "b1ee2983-e8d8-44f2-dd1c-f44c6ffa5839"
      },
      "outputs": [
        {
          "output_type": "stream",
          "name": "stdout",
          "text": [
            "Start Training\n",
            "-----------------------\n",
            "Iteration: 0\n",
            "Coef: [[2.44828618]\n",
            " [5.15287336]]\n",
            "Loss: 1662372252.7693799\n",
            "-----------------------\n",
            "End Training (Early Stopped at iteration 1408)\n",
            "\n",
            "Number of total iterations: 1408 \n",
            "Best Loss: 2.3697634028328865e-24\n",
            "CPU times: user 107 ms, sys: 0 ns, total: 107 ms\n",
            "Wall time: 138 ms\n"
          ]
        }
      ],
      "source": [
        "%%time\n",
        "reg_norm = Linear_Regression(num_iter = 10000000, normalize=True)\n",
        "reg_norm.fit(X,y)\n",
        "print(f'\\nNumber of total iterations: {len(reg_norm.loss)} \\nBest Loss: {min(reg_norm.loss)}')"
      ]
    },
    {
      "cell_type": "markdown",
      "metadata": {
        "id": "TcU0nfg97-tv"
      },
      "source": [
        "Now, let's compare the performance between these two models with/without normalization"
      ]
    },
    {
      "cell_type": "code",
      "execution_count": 39,
      "metadata": {
        "colab": {
          "base_uri": "https://localhost:8080/",
          "height": 449
        },
        "id": "UkBJVTmx7-tv",
        "outputId": "331c2bd7-048b-480d-f4ee-a16df9e2131d"
      },
      "outputs": [
        {
          "output_type": "display_data",
          "data": {
            "text/plain": [
              "<Figure size 640x480 with 1 Axes>"
            ],
            "image/png": "[encoded data removed]"
          },
          "metadata": {}
        }
      ],
      "source": [
        "plt.plot(np.log(reg.loss), label='Linear Regression w/o Normalization')\n",
        "plt.plot(np.log(reg_norm.loss), label='Linear Regression w/ Normalization')\n",
        "plt.xlabel(\"Number of Iterations\")\n",
        "plt.ylabel(\"Loss (Log Scaled)\")\n",
        "plt.legend()\n",
        "plt.show()"
      ]
    },
    {
      "cell_type": "markdown",
      "metadata": {
        "id": "hySziSkB7-tw"
      },
      "source": [
        "<font color='red'>**Question 1: What conclusions can you draw from this experiment? Did normalization help? How and why?**\n",
        "</font>"
      ]
    },
    {
      "cell_type": "markdown",
      "metadata": {
        "id": "Y9L7UqaY7-tw"
      },
      "source": [
        " - **Answer:** As is immediately evident from the graph, normaization results in drastically faster convergence (1408 vs 10000000 iterations)and far smaller loss (2.370e-24 vs 1.014 best loss). Normalization gives us equal scaling for all features, in this case limiting values to [0, 1). This benefits the efficiency of gradient descent since all weights can be updated at the same scale, all feature weights can have equal influence over the model, and we do not risk overshooting the optimal solution."
      ]
    },
    {
      "cell_type": "markdown",
      "metadata": {
        "id": "gIgbgObz7-tw"
      },
      "source": [
        "# Experiment 2: Real-World Data\n",
        "\n",
        "After you complete the first experiment, let's see how our model performs against real-world data.\n",
        "\n",
        "The below dataset is taken from the [Boston Housing dataset](https://www.cs.toronto.edu/~delve/data/boston/bostonDetail.html), where there are 13 features and 1 target variable.\n",
        "\n",
        "0. CRIM - per capita crime rate by town\n",
        "1. ZN - proportion of residential land zoned for lots over 25,000 sq.ft.\n",
        "2. INDUS - proportion of non-retail business acres per town.\n",
        "3. CHAS - Charles River dummy variable (1 if tract bounds river; 0 otherwise)\n",
        "4. NOX - nitric oxides concentration (parts per 10 million)\n",
        "5. RM - average number of rooms per dwelling\n",
        "6. AGE - proportion of owner-occupied units built prior to 1940\n",
        "7. DIS - weighted distances to five Boston employment centres\n",
        "8. RAD - index of accessibility to radial highways\n",
        "9. TAX - full-value property-tax rate per \\$10,000\n",
        "10. PTRATIO - pupil-teacher ratio by town\n",
        "11. B - 1000(Bk - 0.63)^2 where Bk is the proportion of blacks by town\n",
        "12. LSTAT - \\% lower status of the population\n",
        "13. MEDV (**TARGET VARIABLE y**) - Median value of owner-occupied homes in $1000's"
      ]
    },
    {
      "cell_type": "code",
      "execution_count": 40,
      "metadata": {
        "colab": {
          "base_uri": "https://localhost:8080/",
          "height": 206
        },
        "id": "3_5HHLSY7-tw",
        "outputId": "77022189-5a05-4aa9-f0f8-02468e0c1bd5"
      },
      "outputs": [
        {
          "output_type": "execute_result",
          "data": {
            "text/plain": [
              "        0     1     2   3      4      5     6       7   8      9     10  \\\n",
              "0  0.00632  18.0  2.31   0  0.538  6.575  65.2  4.0900   1  296.0  15.3   \n",
              "1  0.02731   0.0  7.07   0  0.469  6.421  78.9  4.9671   2  242.0  17.8   \n",
              "2  0.02729   0.0  7.07   0  0.469  7.185  61.1  4.9671   2  242.0  17.8   \n",
              "3  0.03237   0.0  2.18   0  0.458  6.998  45.8  6.0622   3  222.0  18.7   \n",
              "4  0.06905   0.0  2.18   0  0.458  7.147  54.2  6.0622   3  222.0  18.7   \n",
              "\n",
              "       11    12    13  \n",
              "0  396.90  4.98  24.0  \n",
              "1  396.90  9.14  21.6  \n",
              "2  392.83  4.03  34.7  \n",
              "3  394.63  2.94  33.4  \n",
              "4  396.90  5.33  36.2  "
            ],
            "text/html": [
              "\n",
              "  <div id=\"df-c8f93d61-b6b9-4b71-97b9-4df28e1db506\">\n",
              "    <div class=\"colab-df-container\">\n",
              "      <div>\n",
              "<style scoped>\n",
              "    .dataframe tbody tr th:only-of-type {\n",
              "        vertical-align: middle;\n",
              "    }\n",
              "\n",
              "    .dataframe tbody tr th {\n",
              "        vertical-align: top;\n",
              "    }\n",
              "\n",
              "    .dataframe thead th {\n",
              "        text-align: right;\n",
              "    }\n",
              "</style>\n",
              "<table border=\"1\" class=\"dataframe\">\n",
              "  <thead>\n",
              "    <tr style=\"text-align: right;\">\n",
              "      <th></th>\n",
              "      <th>0</th>\n",
              "      <th>1</th>\n",
              "      <th>2</th>\n",
              "      <th>3</th>\n",
              "      <th>4</th>\n",
              "      <th>5</th>\n",
              "      <th>6</th>\n",
              "      <th>7</th>\n",
              "      <th>8</th>\n",
              "      <th>9</th>\n",
              "      <th>10</th>\n",
              "      <th>11</th>\n",
              "      <th>12</th>\n",
              "      <th>13</th>\n",
              "    </tr>\n",
              "  </thead>\n",
              "  <tbody>\n",
              "    <tr>\n",
              "      <th>0</th>\n",
              "      <td>0.00632</td>\n",
              "      <td>18.0</td>\n",
              "      <td>2.31</td>\n",
              "      <td>0</td>\n",
              "      <td>0.538</td>\n",
              "      <td>6.575</td>\n",
              "      <td>65.2</td>\n",
              "      <td>4.0900</td>\n",
              "      <td>1</td>\n",
              "      <td>296.0</td>\n",
              "      <td>15.3</td>\n",
              "      <td>396.90</td>\n",
              "      <td>4.98</td>\n",
              "      <td>24.0</td>\n",
              "    </tr>\n",
              "    <tr>\n",
              "      <th>1</th>\n",
              "      <td>0.02731</td>\n",
              "      <td>0.0</td>\n",
              "      <td>7.07</td>\n",
              "      <td>0</td>\n",
              "      <td>0.469</td>\n",
              "      <td>6.421</td>\n",
              "      <td>78.9</td>\n",
              "      <td>4.9671</td>\n",
              "      <td>2</td>\n",
              "      <td>242.0</td>\n",
              "      <td>17.8</td>\n",
              "      <td>396.90</td>\n",
              "      <td>9.14</td>\n",
              "      <td>21.6</td>\n",
              "    </tr>\n",
              "    <tr>\n",
              "      <th>2</th>\n",
              "      <td>0.02729</td>\n",
              "      <td>0.0</td>\n",
              "      <td>7.07</td>\n",
              "      <td>0</td>\n",
              "      <td>0.469</td>\n",
              "      <td>7.185</td>\n",
              "      <td>61.1</td>\n",
              "      <td>4.9671</td>\n",
              "      <td>2</td>\n",
              "      <td>242.0</td>\n",
              "      <td>17.8</td>\n",
              "      <td>392.83</td>\n",
              "      <td>4.03</td>\n",
              "      <td>34.7</td>\n",
              "    </tr>\n",
              "    <tr>\n",
              "      <th>3</th>\n",
              "      <td>0.03237</td>\n",
              "      <td>0.0</td>\n",
              "      <td>2.18</td>\n",
              "      <td>0</td>\n",
              "      <td>0.458</td>\n",
              "      <td>6.998</td>\n",
              "      <td>45.8</td>\n",
              "      <td>6.0622</td>\n",
              "      <td>3</td>\n",
              "      <td>222.0</td>\n",
              "      <td>18.7</td>\n",
              "      <td>394.63</td>\n",
              "      <td>2.94</td>\n",
              "      <td>33.4</td>\n",
              "    </tr>\n",
              "    <tr>\n",
              "      <th>4</th>\n",
              "      <td>0.06905</td>\n",
              "      <td>0.0</td>\n",
              "      <td>2.18</td>\n",
              "      <td>0</td>\n",
              "      <td>0.458</td>\n",
              "      <td>7.147</td>\n",
              "      <td>54.2</td>\n",
              "      <td>6.0622</td>\n",
              "      <td>3</td>\n",
              "      <td>222.0</td>\n",
              "      <td>18.7</td>\n",
              "      <td>396.90</td>\n",
              "      <td>5.33</td>\n",
              "      <td>36.2</td>\n",
              "    </tr>\n",
              "  </tbody>\n",
              "</table>\n",
              "</div>\n",
              "      <button class=\"colab-df-convert\" onclick=\"convertToInteractive('df-c8f93d61-b6b9-4b71-97b9-4df28e1db506')\"\n",
              "              title=\"Convert this dataframe to an interactive table.\"\n",
              "              style=\"display:none;\">\n",
              "        \n",
              "  <svg xmlns=\"http://www.w3.org/2000/svg\" height=\"24px\"viewBox=\"0 0 24 24\"\n",
              "       width=\"24px\">\n",
              "    <path d=\"M0 0h24v24H0V0z\" fill=\"none\"/>\n",
              "    <path d=\"M18.56 5.44l.94 2.06.94-2.06 2.06-.94-2.06-.94-.94-2.06-.94 2.06-2.06.94zm-11 1L8.5 8.5l.94-2.06 2.06-.94-2.06-.94L8.5 2.5l-.94 2.06-2.06.94zm10 10l.94 2.06.94-2.06 2.06-.94-2.06-.94-.94-2.06-.94 2.06-2.06.94z\"/><path d=\"M17.41 7.96l-1.37-1.37c-.4-.4-.92-.59-1.43-.59-.52 0-1.04.2-1.43.59L10.3 9.45l-7.72 7.72c-.78.78-.78 2.05 0 2.83L4 21.41c.39.39.9.59 1.41.59.51 0 1.02-.2 1.41-.59l7.78-7.78 2.81-2.81c.8-.78.8-2.07 0-2.86zM5.41 20L4 18.59l7.72-7.72 1.47 1.35L5.41 20z\"/>\n",
              "  </svg>\n",
              "      </button>\n",
              "      \n",
              "  <style>\n",
              "    .colab-df-container {\n",
              "      display:flex;\n",
              "      flex-wrap:wrap;\n",
              "      gap: 12px;\n",
              "    }\n",
              "\n",
              "    .colab-df-convert {\n",
              "      background-color: #E8F0FE;\n",
              "      border: none;\n",
              "      border-radius: 50%;\n",
              "      cursor: pointer;\n",
              "      display: none;\n",
              "      fill: #1967D2;\n",
              "      height: 32px;\n",
              "      padding: 0 0 0 0;\n",
              "      width: 32px;\n",
              "    }\n",
              "\n",
              "    .colab-df-convert:hover {\n",
              "      background-color: #E2EBFA;\n",
              "      box-shadow: 0px 1px 2px rgba(60, 64, 67, 0.3), 0px 1px 3px 1px rgba(60, 64, 67, 0.15);\n",
              "      fill: #174EA6;\n",
              "    }\n",
              "\n",
              "    [theme=dark] .colab-df-convert {\n",
              "      background-color: #3B4455;\n",
              "      fill: #D2E3FC;\n",
              "    }\n",
              "\n",
              "    [theme=dark] .colab-df-convert:hover {\n",
              "      background-color: #434B5C;\n",
              "      box-shadow: 0px 1px 3px 1px rgba(0, 0, 0, 0.15);\n",
              "      filter: drop-shadow(0px 1px 2px rgba(0, 0, 0, 0.3));\n",
              "      fill: #FFFFFF;\n",
              "    }\n",
              "  </style>\n",
              "\n",
              "      <script>\n",
              "        const buttonEl =\n",
              "          document.querySelector('#df-c8f93d61-b6b9-4b71-97b9-4df28e1db506 button.colab-df-convert');\n",
              "        buttonEl.style.display =\n",
              "          google.colab.kernel.accessAllowed ? 'block' : 'none';\n",
              "\n",
              "        async function convertToInteractive(key) {\n",
              "          const element = document.querySelector('#df-c8f93d61-b6b9-4b71-97b9-4df28e1db506');\n",
              "          const dataTable =\n",
              "            await google.colab.kernel.invokeFunction('convertToInteractive',\n",
              "                                                     [key], {});\n",
              "          if (!dataTable) return;\n",
              "\n",
              "          const docLinkHtml = 'Like what you see? Visit the ' +\n",
              "            '<a target=\"_blank\" href=https://colab.research.google.com/notebooks/data_table.ipynb>data table notebook</a>'\n",
              "            + ' to learn more about interactive tables.';\n",
              "          element.innerHTML = '';\n",
              "          dataTable['output_type'] = 'display_data';\n",
              "          await google.colab.output.renderOutput(dataTable, element);\n",
              "          const docLink = document.createElement('div');\n",
              "          docLink.innerHTML = docLinkHtml;\n",
              "          element.appendChild(docLink);\n",
              "        }\n",
              "      </script>\n",
              "    </div>\n",
              "  </div>\n",
              "  "
            ]
          },
          "metadata": {},
          "execution_count": 40
        }
      ],
      "source": [
        "url = 'https://archive.ics.uci.edu/ml/machine-learning-databases/housing/housing.data'\n",
        "df = pd.read_csv(url, delimiter='\\s+', header=None)\n",
        "df.head()"
      ]
    },
    {
      "cell_type": "code",
      "execution_count": 41,
      "metadata": {
        "id": "9OeorJ6g7-tw"
      },
      "outputs": [],
      "source": [
        "X, y = np.array(df.drop(13, axis=1)), np.array(df[13])"
      ]
    },
    {
      "cell_type": "code",
      "execution_count": 42,
      "metadata": {
        "colab": {
          "base_uri": "https://localhost:8080/"
        },
        "id": "gHioKqvc7-tw",
        "outputId": "e0b349e0-ad88-42d7-ab1e-738390887cb9"
      },
      "outputs": [
        {
          "output_type": "execute_result",
          "data": {
            "text/plain": [
              "array([6.3200e-03, 0.0000e+00, 4.6000e-01, 0.0000e+00, 3.8500e-01,\n",
              "       3.5610e+00, 2.9000e+00, 1.1296e+00, 1.0000e+00, 1.8700e+02,\n",
              "       1.2600e+01, 3.2000e-01, 1.7300e+00])"
            ]
          },
          "metadata": {},
          "execution_count": 42
        }
      ],
      "source": [
        "X.min(axis = 0)"
      ]
    },
    {
      "cell_type": "markdown",
      "metadata": {
        "id": "IKa6W6bz7-tx"
      },
      "source": [
        "Now, let's use the data to fit our model"
      ]
    },
    {
      "cell_type": "code",
      "execution_count": 43,
      "metadata": {
        "scrolled": true,
        "colab": {
          "base_uri": "https://localhost:8080/"
        },
        "id": "McQWm1cK7-tx",
        "outputId": "67e5de7e-2b58-4d13-8b9f-5eff0b04d0b7"
      },
      "outputs": [
        {
          "output_type": "stream",
          "name": "stdout",
          "text": [
            "Start Training\n",
            "-----------------------\n",
            "Iteration: 0\n",
            "Coef: [[-0.29240151]\n",
            " [-0.34226071]\n",
            " [ 0.98983001]\n",
            " [ 1.00229426]\n",
            " [-0.88864513]\n",
            " [-0.1306964 ]\n",
            " [ 0.40424979]\n",
            " [-0.36877215]\n",
            " [-0.17323282]\n",
            " [-0.5526915 ]\n",
            " [ 0.09058152]\n",
            " [-0.02994679]\n",
            " [-0.88912042]\n",
            " [-0.1640253 ]]\n",
            "Loss: 309608.3171632303\n",
            "-----------------------\n",
            "End Training (Early Stopped at iteration 24023)\n",
            "\n",
            "Number of total iterations: 24023 \n",
            "Best Loss: 11078.784577955423\n",
            "CPU times: user 1.3 s, sys: 11 ms, total: 1.31 s\n",
            "Wall time: 1.31 s\n"
          ]
        }
      ],
      "source": [
        "%%time\n",
        "reg = Linear_Regression(num_iter=100000, normalize=True)\n",
        "reg.fit(X,y)\n",
        "print(f'\\nNumber of total iterations: {len(reg.loss)} \\nBest Loss: {min(reg.loss)}')"
      ]
    },
    {
      "cell_type": "markdown",
      "metadata": {
        "id": "Ja8j0zlH7-tx"
      },
      "source": [
        "Let's visualize the loss curve of our model on this dataset"
      ]
    },
    {
      "cell_type": "code",
      "execution_count": 44,
      "metadata": {
        "colab": {
          "base_uri": "https://localhost:8080/",
          "height": 449
        },
        "id": "iv7s7ybb7-tx",
        "outputId": "139420fa-4065-497a-fd07-8df7ce5fdde6"
      },
      "outputs": [
        {
          "output_type": "display_data",
          "data": {
            "text/plain": [
              "<Figure size 640x480 with 1 Axes>"
            ],
            "image/png": "[encoded data removed]"
          },
          "metadata": {}
        }
      ],
      "source": [
        "plt.plot(np.log(reg.loss), label='Linear Regression w/ Normalization')\n",
        "plt.xlabel(\"Number of Iterations\")\n",
        "plt.ylabel(\"Loss (Log Scaled)\")\n",
        "plt.legend()\n",
        "plt.show()"
      ]
    },
    {
      "cell_type": "markdown",
      "metadata": {
        "id": "Kq0cGZ9V7-tx"
      },
      "source": [
        "To verify our model, we can compare our model's performance with respect to the linear regression model implemented in scikit-learn (a.k.a. `sklearn`). Scikit-learn is a popular machine learning library in python that provides many classical machine learning algorithms for many different tasks (regression, classification, clustering, etc). It also contains utility functions for preprocessing, calculating metrics, etc.\n",
        "\n",
        "If you implemented your model correctly, you should get a very similar output (difference < 1e-3) for RMSE (Root Mean Squared Error) compared to sklearn linear regressor's RMSE."
      ]
    },
    {
      "cell_type": "code",
      "execution_count": 45,
      "metadata": {
        "colab": {
          "base_uri": "https://localhost:8080/"
        },
        "id": "2sS1WsRy7-tx",
        "outputId": "b855230c-fd58-49c1-95f8-35a4c6f47868"
      },
      "outputs": [
        {
          "output_type": "stream",
          "name": "stdout",
          "text": [
            "Our Model's RMSE: 4.679191295697375\n",
            "Sklearn Model's RMSE: 4.679191295697285\n"
          ]
        }
      ],
      "source": [
        "m, n = df.shape\n",
        "X_norm = X.copy()\n",
        "\n",
        "# TODO: normalize X using the procedure in your model implementation\n",
        "norm_max = np.zeros((1, X_norm.shape[1]))\n",
        "norm_min = np.zeros((1, X_norm.shape[1]))\n",
        "for i in range(X_norm.shape[1]):\n",
        "    norm_max[:, i] = X_norm[:, i].max()\n",
        "    norm_min[:, i] = X_norm[:, i].min()\n",
        "\n",
        "X_norm = (X_norm - norm_min) / (norm_max - norm_min)\n",
        "\n",
        "# Let's build a model with sklearn\n",
        "lr = LinearRegression()\n",
        "lr.fit(X_norm,y)\n",
        "\n",
        "#Compare Root Mean Squared Error.\n",
        "print(f\"Our Model's RMSE: {(sum((reg.predict(X).flatten() - y)**2)/m)**0.5}\\\n",
        "\\nSklearn Model's RMSE: {(sum((lr.predict(X_norm) - y)**2)/m)**0.5}\")"
      ]
    },
    {
      "cell_type": "markdown",
      "metadata": {
        "id": "rJF3DF0i7-tx"
      },
      "source": [
        "Now, let's have some tweaks with our custom model. First, let's see if an interception (i.e. bias) really helps with our model's performance on the real-world data."
      ]
    },
    {
      "cell_type": "code",
      "execution_count": 46,
      "metadata": {
        "colab": {
          "base_uri": "https://localhost:8080/"
        },
        "id": "ThsLfVBS7-ty",
        "outputId": "1297981d-3de1-4279-fe59-eb9854294152"
      },
      "outputs": [
        {
          "output_type": "stream",
          "name": "stdout",
          "text": [
            "CPU times: user 1.74 s, sys: 6.94 ms, total: 1.75 s\n",
            "Wall time: 1.76 s\n"
          ]
        }
      ],
      "source": [
        "%%time\n",
        "%%capture\n",
        "reg_bias = Linear_Regression(num_iter=100000, normalize=True, intercept=True)\n",
        "reg_no_bias = Linear_Regression(num_iter=100000, normalize=True, intercept=False)\n",
        "reg_bias.fit(X,y)\n",
        "reg_no_bias.fit(X,y)"
      ]
    },
    {
      "cell_type": "code",
      "execution_count": 47,
      "metadata": {
        "colab": {
          "base_uri": "https://localhost:8080/"
        },
        "id": "tVFXVTN47-ty",
        "outputId": "aac97d41-0db0-43e0-9449-dbaa3628d472"
      },
      "outputs": [
        {
          "output_type": "stream",
          "name": "stdout",
          "text": [
            "Our Model's RMSE with Interception: 4.679191295697386\n",
            "Our Model's RMSE without Interception: 5.241354231005249\n"
          ]
        }
      ],
      "source": [
        "print(f\"Our Model's RMSE with Interception: {(sum((reg_bias.predict(X).flatten() - y)**2)/m)**0.5}\\\n",
        "\\nOur Model's RMSE without Interception: {(sum((reg_no_bias.predict(X).flatten() - y)**2)/m)**0.5}\")"
      ]
    },
    {
      "cell_type": "markdown",
      "metadata": {
        "id": "a6EWpNRn7-ty"
      },
      "source": [
        "<font color='red'>**Question 2: What conclusions can you make here? Does the addition of an intercept make our model perform better?**</font>"
      ]
    },
    {
      "cell_type": "markdown",
      "metadata": {
        "id": "_bY8-Lyr7-ty"
      },
      "source": [
        "* **Answer:** Yes, it did improve the performance of our model. By adding an intercept to our model, we gain more degrees of freedom to make our model more expressive. Adding an intercept allows us to perform translation away from the origin, whereas otherwise we would have to pass through the origin. Thus, by adding the intercept, we improve our ability to fit data that has bias like we see in this case."
      ]
    },
    {
      "cell_type": "markdown",
      "metadata": {
        "id": "R1lEVi9I7-ty"
      },
      "source": [
        "Second, let's see if regularization can further help with decreasing our model's loss. Since regularization deals with the problem of overfitting, we need to check our model's performance on the \"unseen\" data. Here, we will split our data into two parts: `training set` and `test set`, where our model will be fit with the training set, and the performance will be evaluated based on the test set."
      ]
    },
    {
      "cell_type": "code",
      "execution_count": 48,
      "metadata": {
        "id": "wLTpVKIp7-ty"
      },
      "outputs": [],
      "source": [
        "X_train, X_test, y_train, y_test = train_test_split(X_norm, y, test_size=0.33, random_state=42)\n",
        "m, n = X_test.shape"
      ]
    },
    {
      "cell_type": "code",
      "execution_count": 49,
      "metadata": {
        "colab": {
          "base_uri": "https://localhost:8080/"
        },
        "id": "IClePPMC7-ty",
        "outputId": "753a3062-a184-4cdc-b0c7-10c9e6fac704"
      },
      "outputs": [
        {
          "output_type": "stream",
          "name": "stdout",
          "text": [
            "CPU times: user 1.75 s, sys: 11.4 ms, total: 1.76 s\n",
            "Wall time: 1.77 s\n"
          ]
        }
      ],
      "source": [
        "%%time\n",
        "%%capture\n",
        "reg = Linear_Regression(num_iter=100000, normalize=True)\n",
        "reg.fit(X_train, y_train)\n",
        "# Feel free to tune the lambda hyperparameter for better performance when penalty (regularization) is applied\n",
        "reg_l1 = Linear_Regression(num_iter=100000, normalize=True, penalty='l1')\n",
        "reg_l1.fit(X_train, y_train)\n",
        "reg_l2 = Linear_Regression(num_iter=100000, normalize=True, penalty='l2')\n",
        "reg_l2.fit(X_train, y_train)"
      ]
    },
    {
      "cell_type": "code",
      "execution_count": 50,
      "metadata": {
        "colab": {
          "base_uri": "https://localhost:8080/"
        },
        "id": "szcDbg4v7-tz",
        "outputId": "0c63747a-01be-4984-9ff6-54fa8debec6f"
      },
      "outputs": [
        {
          "output_type": "stream",
          "name": "stdout",
          "text": [
            "Our Model's RMSE: 4.552364553886074\n",
            "Our L1 Regularized Model's RMSE: 4.551834530477728\n",
            "Our L2 Regularized Model's RMSE: 4.6906293175959455\n"
          ]
        }
      ],
      "source": [
        "print(f\"Our Model's RMSE: {(sum((reg.predict(X_test).flatten() - y_test)**2)/m)**0.5}\")\n",
        "print(f\"Our L1 Regularized Model's RMSE: {(sum((reg_l1.predict(X_test).flatten() - y_test)**2)/m)**0.5}\")\n",
        "print(f\"Our L2 Regularized Model's RMSE: {(sum((reg_l2.predict(X_test).flatten() - y_test)**2)/m)**0.5}\")"
      ]
    },
    {
      "cell_type": "markdown",
      "metadata": {
        "id": "p0slH3sL7-tz"
      },
      "source": [
        "<font color='red'> **Question 3: What conclusions can you make here? Does the addition of a regularization make our model perform better on the test set? Why does the addition of it make our model perform better/worse?** </font>"
      ]
    },
    {
      "cell_type": "markdown",
      "metadata": {
        "id": "YiHBIlVB7-tz"
      },
      "source": [
        "* **Answer:** With L2 regularization, less important weights have their magnitude reduced, but not set to zero like in L1 regularization. Because these weights may not be necessary to make our prediction, inclusion of these weights may hinder performance. This could explain the small increase in RMSE for L2 compared to L1 and our non-regularized model performance. \n",
        "* L1 regularization seems to have made no significant difference compared to our default model. This could be because there aren't too many features to result in an overfitting issue. If the default model is already adequetly generalizable, L1 would not make a difference."
      ]
    },
    {
      "cell_type": "markdown",
      "metadata": {
        "id": "UU32xWLM7-tz"
      },
      "source": [
        "Finally, let's see the role of an adaptive learning rate. Let's see our model's performance when adaptive learning rate is disabled."
      ]
    },
    {
      "cell_type": "code",
      "execution_count": 51,
      "metadata": {
        "id": "W0xWnmAZ7-tz"
      },
      "outputs": [],
      "source": [
        "m, n = X.shape"
      ]
    },
    {
      "cell_type": "code",
      "execution_count": 52,
      "metadata": {
        "colab": {
          "base_uri": "https://localhost:8080/"
        },
        "id": "79lpyXNQ7-tz",
        "outputId": "69fa0ac5-5099-47d9-c911-da157d6a30d8"
      },
      "outputs": [
        {
          "output_type": "stream",
          "name": "stdout",
          "text": [
            "CPU times: user 7.1 s, sys: 7.39 ms, total: 7.11 s\n",
            "Wall time: 10.1 s\n"
          ]
        }
      ],
      "source": [
        "%%time\n",
        "%%capture\n",
        "reg = Linear_Regression(num_iter=100000, normalize=True)\n",
        "reg.fit(X, y)\n",
        "reg_alt = Linear_Regression(num_iter=100000, normalize=True, adaptive=False)\n",
        "reg_alt.fit(X, y)"
      ]
    },
    {
      "cell_type": "code",
      "execution_count": 53,
      "metadata": {
        "colab": {
          "base_uri": "https://localhost:8080/"
        },
        "id": "VoG4KS1F7-tz",
        "outputId": "168cf843-6a20-4384-8c8a-c3729d69da1b"
      },
      "outputs": [
        {
          "output_type": "stream",
          "name": "stdout",
          "text": [
            "Our Model's RMSE with Adaptive LR: 4.679191295697379\n",
            "Our Model's RMSE without Adaptive LR: 4.733064937414148\n"
          ]
        }
      ],
      "source": [
        "print(f\"Our Model's RMSE with Adaptive LR: {(sum((reg.predict(X).flatten() - y)**2)/m)**0.5}\\\n",
        "\\nOur Model's RMSE without Adaptive LR: {(sum((reg_alt.predict(X).flatten() - y)**2)/m)**0.5}\")"
      ]
    },
    {
      "cell_type": "markdown",
      "metadata": {
        "id": "btSMEu8X7-t0"
      },
      "source": [
        "<font color='red'> **Question 4: What conclusions can you make here? Does the addition of an adaptive learning rate make our model perform better? What are your reasonings here?**</font>"
      ]
    },
    {
      "cell_type": "markdown",
      "metadata": {
        "id": "uQ_PyKE17-t0"
      },
      "source": [
        "* **Answer:** It's possible we may have already found a global minima for this dataset using our model without adaptive LR which would explain why the difference between the two models is quite small. However, adaptive LR does give us more granularity in our gradient update which could explain the marginally better performance."
      ]
    },
    {
      "cell_type": "code",
      "source": [],
      "metadata": {
        "id": "_Am9zeC5dfcL"
      },
      "execution_count": null,
      "outputs": []
    }
  ],
  "metadata": {
    "kernelspec": {
      "display_name": "Python 3",
      "language": "python",
      "name": "python3"
    },
    "language_info": {
      "codemirror_mode": {
        "name": "ipython",
        "version": 3
      },
      "file_extension": ".py",
      "mimetype": "text/x-python",
      "name": "python",
      "nbconvert_exporter": "python",
      "pygments_lexer": "ipython3",
      "version": "3.7.3"
    },
    "colab": {
      "provenance": []
    }
  },
  "nbformat": 4,
  "nbformat_minor": 0
}