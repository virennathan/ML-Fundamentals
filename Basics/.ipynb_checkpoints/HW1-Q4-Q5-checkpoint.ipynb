{
 "cells": [
  {
   "cell_type": "markdown",
   "metadata": {},
   "source": [
    "### Q4 Data Visualization"
   ]
  },
  {
   "cell_type": "code",
   "execution_count": 79,
   "metadata": {},
   "outputs": [],
   "source": [
    "from matplotlib import pyplot as plt, colors\n",
    "import numpy as np\n",
    "from sklearn import datasets"
   ]
  },
  {
   "cell_type": "code",
   "execution_count": 80,
   "metadata": {},
   "outputs": [
    {
     "name": "stdout",
     "output_type": "stream",
     "text": [
      "(178, 13) (178,)\n"
     ]
    }
   ],
   "source": [
    "# Load data\n",
    "wine = datasets.load_wine()\n",
    "X = wine.data\n",
    "Y = wine.target\n",
    "print(X.shape, Y.shape)"
   ]
  },
  {
   "cell_type": "code",
   "execution_count": 81,
   "metadata": {},
   "outputs": [
    {
     "data": {
      "image/png": "[encoded data removed]",
      "text/plain": [
       "<Figure size 640x480 with 1 Axes>"
      ]
     },
     "metadata": {},
     "output_type": "display_data"
    }
   ],
   "source": [
    "###### To be filled ######\n",
    "# Hint: You may use plt.scatter() to draw the plot. You may need to set the 'c' argument\n",
    "#       in order to have different color for the data points with different classes in Y.\n",
    "cdict = {0: 'red', 1: 'blue', 2: 'green'}\n",
    "\n",
    "fig, ax = plt.subplots()\n",
    "for t in np.unique(Y):\n",
    "    ix = np.where(Y == t)\n",
    "    ax.scatter(X[ix,0], X[ix,1], c = cdict[t], label = t)\n",
    "ax.legend()\n",
    "plt.show()"
   ]
  },
  {
   "cell_type": "markdown",
   "metadata": {},
   "source": [
    "### Q5 Data Manipulation"
   ]
  },
  {
   "cell_type": "code",
   "execution_count": 82,
   "metadata": {},
   "outputs": [],
   "source": [
    "import numpy as np"
   ]
  },
  {
   "cell_type": "markdown",
   "metadata": {},
   "source": [
    "1.  Show the first 2 features of the first 3 data points."
   ]
  },
  {
   "cell_type": "code",
   "execution_count": 83,
   "metadata": {},
   "outputs": [
    {
     "name": "stdout",
     "output_type": "stream",
     "text": [
      "[[14.23  1.71]\n",
      " [13.2   1.78]\n",
      " [13.16  2.36]]\n"
     ]
    }
   ],
   "source": [
    "print(X[:3,:2])"
   ]
  },
  {
   "cell_type": "markdown",
   "metadata": {},
   "source": [
    "2. Calculate the mean and the variance of the 1st feature (the 1st column) of array $X$."
   ]
  },
  {
   "cell_type": "code",
   "execution_count": 84,
   "metadata": {},
   "outputs": [
    {
     "name": "stdout",
     "output_type": "stream",
     "text": [
      "Mean: 13.00061797752809\n",
      "Variance: 0.6553597304633255\n"
     ]
    }
   ],
   "source": [
    "###### To be filled ######\n",
    "# Hint: You may use np.mean() and np.var()\n",
    "print(\"Mean:\", np.mean(X[:,0]))\n",
    "print(\"Variance:\", np.var(X[:,0]))"
   ]
  },
  {
   "cell_type": "markdown",
   "metadata": {},
   "source": [
    "3. Randomly sample 3 data points (rows) of array $X$ by randomly choosing the row indices. Show the indices and the sampled data points."
   ]
  },
  {
   "cell_type": "code",
   "execution_count": 85,
   "metadata": {},
   "outputs": [
    {
     "name": "stdout",
     "output_type": "stream",
     "text": [
      "Index 91 : [ 12.     1.51   2.42  22.    86.     1.45   1.25   0.5    1.63   3.6\n",
      "   1.05   2.65 450.  ]\n",
      "Index 54 : [1.374e+01 1.670e+00 2.250e+00 1.640e+01 1.180e+02 2.600e+00 2.900e+00\n",
      " 2.100e-01 1.620e+00 5.850e+00 9.200e-01 3.200e+00 1.060e+03]\n",
      "Index 103 : [1.182e+01 1.720e+00 1.880e+00 1.950e+01 8.600e+01 2.500e+00 1.640e+00\n",
      " 3.700e-01 1.420e+00 2.060e+00 9.400e-01 2.440e+00 4.150e+02]\n"
     ]
    }
   ],
   "source": [
    "###### To be filled ######\n",
    "# Hint: You may use np.random.randint().\n",
    "idxs = np.random.randint(len(X), size=3)\n",
    "for idx in idxs:\n",
    "    print(\"Index\", idx, \":\", X[idx])"
   ]
  },
  {
   "cell_type": "markdown",
   "metadata": {},
   "source": [
    "4. Add one more feature (one more column) to the array $X$ after the last feature.  The values of the added feature for all data points are constant 1.  Show the first data point (first row) of the new array"
   ]
  },
  {
   "cell_type": "code",
   "execution_count": 86,
   "metadata": {},
   "outputs": [
    {
     "name": "stdout",
     "output_type": "stream",
     "text": [
      "[1.423e+01 1.710e+00 2.430e+00 1.560e+01 1.270e+02 2.800e+00 3.060e+00\n",
      " 2.800e-01 2.290e+00 5.640e+00 1.040e+00 3.920e+00 1.065e+03 1.000e+00]\n"
     ]
    }
   ],
   "source": [
    "###### To be filled ######\n",
    "# Hint: You may use np.hstack() and np.ones()\n",
    "col = np.ones((len(X), 1))\n",
    "X = np.hstack((X, col))\n",
    "print(X[0])"
   ]
  },
  {
   "cell_type": "markdown",
   "metadata": {},
   "source": [
    "**Submission Requirement**\n",
    "\n",
    "Please combine your code, plot and results for Q4, Q5 with your answers for Q1, Q2, Q3 together as a single PDF and submit it through Gradescope. \n",
    "\n",
    "A easy way is, you can save your completed Jupyter notebook as a PDF (e.g. in Chrome, right click the web page -> Print ... -> Save as PDF) and then merge it with your answers for Q1, Q2, Q3."
   ]
  },
  {
   "cell_type": "code",
   "execution_count": null,
   "metadata": {},
   "outputs": [],
   "source": []
  }
 ],
 "metadata": {
  "kernelspec": {
   "display_name": "Python 3 (ipykernel)",
   "language": "python",
   "name": "python3"
  },
  "language_info": {
   "codemirror_mode": {
    "name": "ipython",
    "version": 3
   },
   "file_extension": ".py",
   "mimetype": "text/x-python",
   "name": "python",
   "nbconvert_exporter": "python",
   "pygments_lexer": "ipython3",
   "version": "3.9.7"
  }
 },
 "nbformat": 4,
 "nbformat_minor": 4
}
